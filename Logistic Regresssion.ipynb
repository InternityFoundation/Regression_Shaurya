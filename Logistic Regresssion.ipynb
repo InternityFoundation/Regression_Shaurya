{
 "cells": [
  {
   "cell_type": "code",
   "execution_count": 47,
   "metadata": {},
   "outputs": [],
   "source": [
    "import numpy as np\n",
    "import pandas as pd\n",
    "import matplotlib.pyplot as plt\n",
    "%matplotlib inline"
   ]
  },
  {
   "cell_type": "code",
   "execution_count": 48,
   "metadata": {},
   "outputs": [],
   "source": [
    "dataset = pd.read_csv('HousingData.csv')"
   ]
  },
  {
   "cell_type": "code",
   "execution_count": 49,
   "metadata": {},
   "outputs": [
    {
     "data": {
      "text/html": [
       "<div>\n",
       "<style scoped>\n",
       "    .dataframe tbody tr th:only-of-type {\n",
       "        vertical-align: middle;\n",
       "    }\n",
       "\n",
       "    .dataframe tbody tr th {\n",
       "        vertical-align: top;\n",
       "    }\n",
       "\n",
       "    .dataframe thead th {\n",
       "        text-align: right;\n",
       "    }\n",
       "</style>\n",
       "<table border=\"1\" class=\"dataframe\">\n",
       "  <thead>\n",
       "    <tr style=\"text-align: right;\">\n",
       "      <th></th>\n",
       "      <th>Purchase time passed(1990)</th>\n",
       "      <th>Pricing</th>\n",
       "    </tr>\n",
       "  </thead>\n",
       "  <tbody>\n",
       "    <tr>\n",
       "      <th>0</th>\n",
       "      <td>1.1</td>\n",
       "      <td>39343</td>\n",
       "    </tr>\n",
       "    <tr>\n",
       "      <th>1</th>\n",
       "      <td>1.2</td>\n",
       "      <td>46205</td>\n",
       "    </tr>\n",
       "    <tr>\n",
       "      <th>2</th>\n",
       "      <td>1.5</td>\n",
       "      <td>37731</td>\n",
       "    </tr>\n",
       "    <tr>\n",
       "      <th>3</th>\n",
       "      <td>2.0</td>\n",
       "      <td>43525</td>\n",
       "    </tr>\n",
       "    <tr>\n",
       "      <th>4</th>\n",
       "      <td>2.2</td>\n",
       "      <td>39891</td>\n",
       "    </tr>\n",
       "  </tbody>\n",
       "</table>\n",
       "</div>"
      ],
      "text/plain": [
       "   Purchase time passed(1990)  Pricing\n",
       "0                         1.1    39343\n",
       "1                         1.2    46205\n",
       "2                         1.5    37731\n",
       "3                         2.0    43525\n",
       "4                         2.2    39891"
      ]
     },
     "execution_count": 49,
     "metadata": {},
     "output_type": "execute_result"
    }
   ],
   "source": [
    "dataset.head()"
   ]
  },
  {
   "cell_type": "code",
   "execution_count": 50,
   "metadata": {},
   "outputs": [],
   "source": [
    "X = dataset.iloc[:,:-1].values"
   ]
  },
  {
   "cell_type": "code",
   "execution_count": 51,
   "metadata": {},
   "outputs": [],
   "source": [
    "y = dataset.iloc[:,1].values"
   ]
  },
  {
   "cell_type": "code",
   "execution_count": 52,
   "metadata": {},
   "outputs": [],
   "source": [
    "from sklearn.model_selection import train_test_split"
   ]
  },
  {
   "cell_type": "code",
   "execution_count": 53,
   "metadata": {},
   "outputs": [],
   "source": [
    "X_train,X_test,y_train,y_test = train_test_split(X,y,test_size=0.3)"
   ]
  },
  {
   "cell_type": "code",
   "execution_count": 54,
   "metadata": {},
   "outputs": [],
   "source": [
    "from sklearn.linear_model import LogisticRegression"
   ]
  },
  {
   "cell_type": "code",
   "execution_count": 55,
   "metadata": {},
   "outputs": [],
   "source": [
    "LogicRegressor = LogisticRegression()"
   ]
  },
  {
   "cell_type": "code",
   "execution_count": 56,
   "metadata": {},
   "outputs": [
    {
     "data": {
      "text/plain": [
       "LogisticRegression(C=1.0, class_weight=None, dual=False, fit_intercept=True,\n",
       "          intercept_scaling=1, max_iter=100, multi_class='ovr', n_jobs=1,\n",
       "          penalty='l2', random_state=None, solver='liblinear', tol=0.0001,\n",
       "          verbose=0, warm_start=False)"
      ]
     },
     "execution_count": 56,
     "metadata": {},
     "output_type": "execute_result"
    }
   ],
   "source": [
    "LogicRegressor.fit(X_train,y_train)"
   ]
  },
  {
   "cell_type": "code",
   "execution_count": 57,
   "metadata": {},
   "outputs": [
    {
     "data": {
      "text/plain": [
       "array([[0.03731939, 0.03812473, 0.04786305, 0.04942341, 0.04669298,\n",
       "        0.04955799, 0.04911743, 0.04731533, 0.04998546, 0.05034281,\n",
       "        0.05025755, 0.0504085 , 0.05042609, 0.04927345, 0.04818371,\n",
       "        0.04850275, 0.0475065 , 0.04899959, 0.04762262, 0.0466631 ,\n",
       "        0.04641355],\n",
       "       [0.01622742, 0.01719249, 0.03559158, 0.0416245 , 0.03223274,\n",
       "        0.04231296, 0.04020387, 0.03393947, 0.04492333, 0.04842527,\n",
       "        0.04731174, 0.05238517, 0.05050062, 0.05941129, 0.06194667,\n",
       "        0.06133104, 0.06302677, 0.06018136, 0.06285998, 0.06405878,\n",
       "        0.06431295],\n",
       "       [0.02220446, 0.02322048, 0.04008444, 0.04477591, 0.03730705,\n",
       "        0.04528701, 0.0437054 , 0.03873331, 0.0471784 , 0.04959467,\n",
       "        0.04884216, 0.05213957, 0.05095526, 0.05598434, 0.05701992,\n",
       "        0.05679608, 0.05735359, 0.05632794, 0.05730785, 0.05757431,\n",
       "        0.05760788],\n",
       "       [0.00222375, 0.00253211, 0.01465655, 0.02244662, 0.01133028,\n",
       "        0.02351267, 0.02037144, 0.01294146, 0.02794863, 0.03503698,\n",
       "        0.03262461, 0.04506901, 0.03998605, 0.07142913, 0.08597867,\n",
       "        0.08203126, 0.0938069 , 0.07541468, 0.09250906, 0.10280467,\n",
       "        0.10534547],\n",
       "       [0.00302459, 0.00340825, 0.01699053, 0.02500895, 0.0134421 ,\n",
       "        0.02608076, 0.02290652, 0.01517218, 0.03048634, 0.03736802,\n",
       "        0.03504587, 0.04683472, 0.04207437, 0.07055905, 0.08309254,\n",
       "        0.07972646, 0.08969689, 0.07402762, 0.08860832, 0.09717711,\n",
       "        0.09926882],\n",
       "       [0.04059062, 0.04130013, 0.04913568, 0.05007637, 0.04831273,\n",
       "        0.05014042, 0.049916  , 0.04875848, 0.05030042, 0.05029786,\n",
       "        0.05032731, 0.04995203, 0.05016634, 0.04805292, 0.04666131,\n",
       "        0.04705604, 0.04584589, 0.04768984, 0.04598389, 0.04486107,\n",
       "        0.04457465],\n",
       "       [0.00490361, 0.00543367, 0.02130038, 0.02941825, 0.01749075,\n",
       "        0.03046172, 0.02734535, 0.01936816, 0.03466508, 0.04098922,\n",
       "        0.03888532, 0.0492891 , 0.04516816, 0.06851801, 0.07794454,\n",
       "        0.07545705, 0.0827354 , 0.0711725 , 0.08195375, 0.0880234 ,\n",
       "        0.0894766 ],\n",
       "       [0.01379153, 0.01470695, 0.0333622 , 0.03994105, 0.02979747,\n",
       "        0.0407067 , 0.03837101, 0.03160019, 0.04363902, 0.04765026,\n",
       "        0.0463646 , 0.05230782, 0.05007368, 0.06101271, 0.06438513,\n",
       "        0.06354817, 0.06589211, 0.06201797, 0.06565563, 0.06739595,\n",
       "        0.06777984],\n",
       "       [0.04918182, 0.04957353, 0.05204789, 0.05144589, 0.05212019,\n",
       "        0.05133829, 0.05164228, 0.05210735, 0.05085402, 0.05000023,\n",
       "        0.05029909, 0.04870206, 0.04936888, 0.0450937 , 0.04305047,\n",
       "        0.04360711, 0.0419423 , 0.04453644, 0.04212639, 0.04066231,\n",
       "        0.04029976]])"
      ]
     },
     "execution_count": 57,
     "metadata": {},
     "output_type": "execute_result"
    }
   ],
   "source": [
    " LogicRegressor.predict_proba(X_test)"
   ]
  }
 ],
 "metadata": {
  "kernelspec": {
   "display_name": "Python 3",
   "language": "python",
   "name": "python3"
  },
  "language_info": {
   "codemirror_mode": {
    "name": "ipython",
    "version": 3
   },
   "file_extension": ".py",
   "mimetype": "text/x-python",
   "name": "python",
   "nbconvert_exporter": "python",
   "pygments_lexer": "ipython3",
   "version": "3.6.5"
  }
 },
 "nbformat": 4,
 "nbformat_minor": 2
}
