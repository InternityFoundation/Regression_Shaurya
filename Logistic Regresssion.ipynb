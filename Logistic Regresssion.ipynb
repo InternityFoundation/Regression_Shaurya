{
 "cells": [
  {
   "cell_type": "code",
   "execution_count": 1,
   "metadata": {},
   "outputs": [],
   "source": [
    "import numpy as np\n",
    "import pandas as pd\n",
    "import matplotlib.pyplot as plt\n",
    "%matplotlib inline"
   ]
  },
  {
   "cell_type": "code",
   "execution_count": 2,
   "metadata": {},
   "outputs": [],
   "source": [
    "dataset = pd.read_csv('binary.csv')"
   ]
  },
  {
   "cell_type": "code",
   "execution_count": 3,
   "metadata": {},
   "outputs": [
    {
     "data": {
      "text/html": [
       "<div>\n",
       "<style scoped>\n",
       "    .dataframe tbody tr th:only-of-type {\n",
       "        vertical-align: middle;\n",
       "    }\n",
       "\n",
       "    .dataframe tbody tr th {\n",
       "        vertical-align: top;\n",
       "    }\n",
       "\n",
       "    .dataframe thead th {\n",
       "        text-align: right;\n",
       "    }\n",
       "</style>\n",
       "<table border=\"1\" class=\"dataframe\">\n",
       "  <thead>\n",
       "    <tr style=\"text-align: right;\">\n",
       "      <th></th>\n",
       "      <th>admit</th>\n",
       "      <th>gre</th>\n",
       "      <th>gpa</th>\n",
       "      <th>rank</th>\n",
       "    </tr>\n",
       "  </thead>\n",
       "  <tbody>\n",
       "    <tr>\n",
       "      <th>0</th>\n",
       "      <td>0</td>\n",
       "      <td>380</td>\n",
       "      <td>3.61</td>\n",
       "      <td>3</td>\n",
       "    </tr>\n",
       "    <tr>\n",
       "      <th>1</th>\n",
       "      <td>1</td>\n",
       "      <td>660</td>\n",
       "      <td>3.67</td>\n",
       "      <td>3</td>\n",
       "    </tr>\n",
       "    <tr>\n",
       "      <th>2</th>\n",
       "      <td>1</td>\n",
       "      <td>800</td>\n",
       "      <td>4.00</td>\n",
       "      <td>1</td>\n",
       "    </tr>\n",
       "    <tr>\n",
       "      <th>3</th>\n",
       "      <td>1</td>\n",
       "      <td>640</td>\n",
       "      <td>3.19</td>\n",
       "      <td>4</td>\n",
       "    </tr>\n",
       "    <tr>\n",
       "      <th>4</th>\n",
       "      <td>0</td>\n",
       "      <td>520</td>\n",
       "      <td>2.93</td>\n",
       "      <td>4</td>\n",
       "    </tr>\n",
       "  </tbody>\n",
       "</table>\n",
       "</div>"
      ],
      "text/plain": [
       "   admit  gre   gpa  rank\n",
       "0      0  380  3.61     3\n",
       "1      1  660  3.67     3\n",
       "2      1  800  4.00     1\n",
       "3      1  640  3.19     4\n",
       "4      0  520  2.93     4"
      ]
     },
     "execution_count": 3,
     "metadata": {},
     "output_type": "execute_result"
    }
   ],
   "source": [
    "dataset.head()"
   ]
  },
  {
   "cell_type": "code",
   "execution_count": 4,
   "metadata": {},
   "outputs": [],
   "source": [
    "X = dataset.iloc[:,1:].values"
   ]
  },
  {
   "cell_type": "code",
   "execution_count": 5,
   "metadata": {},
   "outputs": [],
   "source": [
    "y = dataset.iloc[:,0].values"
   ]
  },
  {
   "cell_type": "code",
   "execution_count": 6,
   "metadata": {},
   "outputs": [],
   "source": [
    "from sklearn.model_selection import train_test_split"
   ]
  },
  {
   "cell_type": "code",
   "execution_count": 7,
   "metadata": {},
   "outputs": [],
   "source": [
    "X_train,X_test,y_train,y_test = train_test_split(X,y,test_size=0.3)"
   ]
  },
  {
   "cell_type": "code",
   "execution_count": 8,
   "metadata": {},
   "outputs": [],
   "source": [
    "from sklearn.linear_model import LogisticRegression"
   ]
  },
  {
   "cell_type": "code",
   "execution_count": 9,
   "metadata": {},
   "outputs": [],
   "source": [
    "LogicRegressor = LogisticRegression()"
   ]
  },
  {
   "cell_type": "code",
   "execution_count": 10,
   "metadata": {},
   "outputs": [
    {
     "data": {
      "text/plain": [
       "LogisticRegression(C=1.0, class_weight=None, dual=False, fit_intercept=True,\n",
       "          intercept_scaling=1, max_iter=100, multi_class='ovr', n_jobs=1,\n",
       "          penalty='l2', random_state=None, solver='liblinear', tol=0.0001,\n",
       "          verbose=0, warm_start=False)"
      ]
     },
     "execution_count": 10,
     "metadata": {},
     "output_type": "execute_result"
    }
   ],
   "source": [
    "LogicRegressor.fit(X_train,y_train)"
   ]
  },
  {
   "cell_type": "code",
   "execution_count": 11,
   "metadata": {},
   "outputs": [],
   "source": [
    " predictor = LogicRegressor.predict_proba(X_test)"
   ]
  },
  {
   "cell_type": "code",
   "execution_count": 12,
   "metadata": {},
   "outputs": [
    {
     "data": {
      "text/plain": [
       "array([[0.73424915, 0.26575085],\n",
       "       [0.69520654, 0.30479346],\n",
       "       [0.80311985, 0.19688015],\n",
       "       [0.78947969, 0.21052031],\n",
       "       [0.86116765, 0.13883235],\n",
       "       [0.68060177, 0.31939823],\n",
       "       [0.69310589, 0.30689411],\n",
       "       [0.71629975, 0.28370025],\n",
       "       [0.68891678, 0.31108322],\n",
       "       [0.50024787, 0.49975213],\n",
       "       [0.5682039 , 0.4317961 ],\n",
       "       [0.75993888, 0.24006112],\n",
       "       [0.56481664, 0.43518336],\n",
       "       [0.49287492, 0.50712508],\n",
       "       [0.49344569, 0.50655431],\n",
       "       [0.73158475, 0.26841525],\n",
       "       [0.61122216, 0.38877784],\n",
       "       [0.8652575 , 0.1347425 ],\n",
       "       [0.72988081, 0.27011919],\n",
       "       [0.89253664, 0.10746336],\n",
       "       [0.60945727, 0.39054273],\n",
       "       [0.85667122, 0.14332878],\n",
       "       [0.60236744, 0.39763256],\n",
       "       [0.43449851, 0.56550149],\n",
       "       [0.71701501, 0.28298499],\n",
       "       [0.68488996, 0.31511004],\n",
       "       [0.71171489, 0.28828511],\n",
       "       [0.70584455, 0.29415545],\n",
       "       [0.48916461, 0.51083539],\n",
       "       [0.65032754, 0.34967246],\n",
       "       [0.65927336, 0.34072664],\n",
       "       [0.72522486, 0.27477514],\n",
       "       [0.57361412, 0.42638588],\n",
       "       [0.66677713, 0.33322287],\n",
       "       [0.51817386, 0.48182614],\n",
       "       [0.67736768, 0.32263232],\n",
       "       [0.63245027, 0.36754973],\n",
       "       [0.7923452 , 0.2076548 ],\n",
       "       [0.76083951, 0.23916049],\n",
       "       [0.81756009, 0.18243991],\n",
       "       [0.82816889, 0.17183111],\n",
       "       [0.65649148, 0.34350852],\n",
       "       [0.59434361, 0.40565639],\n",
       "       [0.69099541, 0.30900459],\n",
       "       [0.68519739, 0.31480261],\n",
       "       [0.75516896, 0.24483104],\n",
       "       [0.46325485, 0.53674515],\n",
       "       [0.70330709, 0.29669291],\n",
       "       [0.62000312, 0.37999688],\n",
       "       [0.77537566, 0.22462434],\n",
       "       [0.62783721, 0.37216279],\n",
       "       [0.74284627, 0.25715373],\n",
       "       [0.82461891, 0.17538109],\n",
       "       [0.58326184, 0.41673816],\n",
       "       [0.66121782, 0.33878218],\n",
       "       [0.83269631, 0.16730369],\n",
       "       [0.53394822, 0.46605178],\n",
       "       [0.79050739, 0.20949261],\n",
       "       [0.70866099, 0.29133901],\n",
       "       [0.39518918, 0.60481082],\n",
       "       [0.49962945, 0.50037055],\n",
       "       [0.78803679, 0.21196321],\n",
       "       [0.57365858, 0.42634142],\n",
       "       [0.72914989, 0.27085011],\n",
       "       [0.36776594, 0.63223406],\n",
       "       [0.88356453, 0.11643547],\n",
       "       [0.8126856 , 0.1873144 ],\n",
       "       [0.78240548, 0.21759452],\n",
       "       [0.48020574, 0.51979426],\n",
       "       [0.73036987, 0.26963013],\n",
       "       [0.59493987, 0.40506013],\n",
       "       [0.57844597, 0.42155403],\n",
       "       [0.5553705 , 0.4446295 ],\n",
       "       [0.65681179, 0.34318821],\n",
       "       [0.57995271, 0.42004729],\n",
       "       [0.62639256, 0.37360744],\n",
       "       [0.55964211, 0.44035789],\n",
       "       [0.71851917, 0.28148083],\n",
       "       [0.69755966, 0.30244034],\n",
       "       [0.63359955, 0.36640045],\n",
       "       [0.73134222, 0.26865778],\n",
       "       [0.81642273, 0.18357727],\n",
       "       [0.71951868, 0.28048132],\n",
       "       [0.5256279 , 0.4743721 ],\n",
       "       [0.36949311, 0.63050689],\n",
       "       [0.7985827 , 0.2014173 ],\n",
       "       [0.56542559, 0.43457441],\n",
       "       [0.84985862, 0.15014138],\n",
       "       [0.46325589, 0.53674411],\n",
       "       [0.8354351 , 0.1645649 ],\n",
       "       [0.82101206, 0.17898794],\n",
       "       [0.42329026, 0.57670974],\n",
       "       [0.80092911, 0.19907089],\n",
       "       [0.63187701, 0.36812299],\n",
       "       [0.82140318, 0.17859682],\n",
       "       [0.86278651, 0.13721349],\n",
       "       [0.68359357, 0.31640643],\n",
       "       [0.80965448, 0.19034552],\n",
       "       [0.51266098, 0.48733902],\n",
       "       [0.79698646, 0.20301354],\n",
       "       [0.62116899, 0.37883101],\n",
       "       [0.65983067, 0.34016933],\n",
       "       [0.60857425, 0.39142575],\n",
       "       [0.5095694 , 0.4904306 ],\n",
       "       [0.77730882, 0.22269118],\n",
       "       [0.65345758, 0.34654242],\n",
       "       [0.71554384, 0.28445616],\n",
       "       [0.82942287, 0.17057713],\n",
       "       [0.86044921, 0.13955079],\n",
       "       [0.77122311, 0.22877689],\n",
       "       [0.55964314, 0.44035686],\n",
       "       [0.82264231, 0.17735769],\n",
       "       [0.73641675, 0.26358325],\n",
       "       [0.74614006, 0.25385994],\n",
       "       [0.82851943, 0.17148057],\n",
       "       [0.68037465, 0.31962535],\n",
       "       [0.70869766, 0.29130234],\n",
       "       [0.60680407, 0.39319593],\n",
       "       [0.65313674, 0.34686326],\n",
       "       [0.60296278, 0.39703722]])"
      ]
     },
     "execution_count": 12,
     "metadata": {},
     "output_type": "execute_result"
    }
   ],
   "source": [
    "predictor"
   ]
  },
  {
   "cell_type": "code",
   "execution_count": 13,
   "metadata": {},
   "outputs": [
    {
     "data": {
      "text/plain": [
       "([array([ 0.,  0.,  0.,  3.,  9., 15., 22., 32., 20., 19.]),\n",
       "  array([19., 20., 32., 22., 15.,  9.,  3.,  0.,  0.,  0.])],\n",
       " array([0.10746336, 0.18597069, 0.26447801, 0.34298534, 0.42149267,\n",
       "        0.5       , 0.57850733, 0.65701466, 0.73552199, 0.81402931,\n",
       "        0.89253664]),\n",
       " <a list of 2 Lists of Patches objects>)"
      ]
     },
     "execution_count": 13,
     "metadata": {},
     "output_type": "execute_result"
    },
    {
     "data": {
      "image/png": "[encoded data removed]",
      "text/plain": [
       "<Figure size 432x288 with 1 Axes>"
      ]
     },
     "metadata": {},
     "output_type": "display_data"
    }
   ],
   "source": [
    "plt.hist(predictor)"
   ]
  },
  {
   "cell_type": "code",
   "execution_count": 20,
   "metadata": {},
   "outputs": [],
   "source": [
    "from sklearn.metrics import confusion_matrix\n",
    "cm = confusion_matrix(y_test, LogicRegressor.predict(X_test))"
   ]
  },
  {
   "cell_type": "code",
   "execution_count": 21,
   "metadata": {},
   "outputs": [
    {
     "data": {
      "text/plain": [
       "array([[81,  4],\n",
       "       [27,  8]], dtype=int64)"
      ]
     },
     "execution_count": 21,
     "metadata": {},
     "output_type": "execute_result"
    }
   ],
   "source": [
    "cm"
   ]
  },
  {
   "cell_type": "code",
   "execution_count": 23,
   "metadata": {},
   "outputs": [],
   "source": [
    "from sklearn.metrics import classification_report"
   ]
  },
  {
   "cell_type": "code",
   "execution_count": 25,
   "metadata": {
    "scrolled": true
   },
   "outputs": [
    {
     "name": "stdout",
     "output_type": "stream",
     "text": [
      "             precision    recall  f1-score   support\n",
      "\n",
      "          0       0.75      0.95      0.84        85\n",
      "          1       0.67      0.23      0.34        35\n",
      "\n",
      "avg / total       0.73      0.74      0.69       120\n",
      "\n"
     ]
    }
   ],
   "source": [
    "print(classification_report(y_test,LogicRegressor.predict(X_test)))"
   ]
  },
  {
   "cell_type": "code",
   "execution_count": null,
   "metadata": {},
   "outputs": [],
   "source": []
  }
 ],
 "metadata": {
  "kernelspec": {
   "display_name": "Python 3",
   "language": "python",
   "name": "python3"
  },
  "language_info": {
   "codemirror_mode": {
    "name": "ipython",
    "version": 3
   },
   "file_extension": ".py",
   "mimetype": "text/x-python",
   "name": "python",
   "nbconvert_exporter": "python",
   "pygments_lexer": "ipython3",
   "version": "3.6.5"
  }
 },
 "nbformat": 4,
 "nbformat_minor": 2
}
