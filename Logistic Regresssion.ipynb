{
 "cells": [
  {
   "cell_type": "code",
   "execution_count": 14,
   "metadata": {},
   "outputs": [],
   "source": [
    "import numpy as np\n",
    "import pandas as pd\n",
    "import matplotlib.pyplot as plt\n",
    "%matplotlib inline"
   ]
  },
  {
   "cell_type": "code",
   "execution_count": 15,
   "metadata": {},
   "outputs": [],
   "source": [
    "dataset = pd.read_csv('binary.csv')"
   ]
  },
  {
   "cell_type": "code",
   "execution_count": 16,
   "metadata": {},
   "outputs": [
    {
     "data": {
      "text/html": [
       "<div>\n",
       "<style scoped>\n",
       "    .dataframe tbody tr th:only-of-type {\n",
       "        vertical-align: middle;\n",
       "    }\n",
       "\n",
       "    .dataframe tbody tr th {\n",
       "        vertical-align: top;\n",
       "    }\n",
       "\n",
       "    .dataframe thead th {\n",
       "        text-align: right;\n",
       "    }\n",
       "</style>\n",
       "<table border=\"1\" class=\"dataframe\">\n",
       "  <thead>\n",
       "    <tr style=\"text-align: right;\">\n",
       "      <th></th>\n",
       "      <th>admit</th>\n",
       "      <th>gre</th>\n",
       "      <th>gpa</th>\n",
       "      <th>rank</th>\n",
       "    </tr>\n",
       "  </thead>\n",
       "  <tbody>\n",
       "    <tr>\n",
       "      <th>0</th>\n",
       "      <td>0</td>\n",
       "      <td>380</td>\n",
       "      <td>3.61</td>\n",
       "      <td>3</td>\n",
       "    </tr>\n",
       "    <tr>\n",
       "      <th>1</th>\n",
       "      <td>1</td>\n",
       "      <td>660</td>\n",
       "      <td>3.67</td>\n",
       "      <td>3</td>\n",
       "    </tr>\n",
       "    <tr>\n",
       "      <th>2</th>\n",
       "      <td>1</td>\n",
       "      <td>800</td>\n",
       "      <td>4.00</td>\n",
       "      <td>1</td>\n",
       "    </tr>\n",
       "    <tr>\n",
       "      <th>3</th>\n",
       "      <td>1</td>\n",
       "      <td>640</td>\n",
       "      <td>3.19</td>\n",
       "      <td>4</td>\n",
       "    </tr>\n",
       "    <tr>\n",
       "      <th>4</th>\n",
       "      <td>0</td>\n",
       "      <td>520</td>\n",
       "      <td>2.93</td>\n",
       "      <td>4</td>\n",
       "    </tr>\n",
       "  </tbody>\n",
       "</table>\n",
       "</div>"
      ],
      "text/plain": [
       "   admit  gre   gpa  rank\n",
       "0      0  380  3.61     3\n",
       "1      1  660  3.67     3\n",
       "2      1  800  4.00     1\n",
       "3      1  640  3.19     4\n",
       "4      0  520  2.93     4"
      ]
     },
     "execution_count": 16,
     "metadata": {},
     "output_type": "execute_result"
    }
   ],
   "source": [
    "dataset.head()"
   ]
  },
  {
   "cell_type": "code",
   "execution_count": 17,
   "metadata": {},
   "outputs": [],
   "source": [
    "X = dataset.iloc[:,1:].values"
   ]
  },
  {
   "cell_type": "code",
   "execution_count": 18,
   "metadata": {},
   "outputs": [],
   "source": [
    "y = dataset.iloc[:,0].values"
   ]
  },
  {
   "cell_type": "code",
   "execution_count": 19,
   "metadata": {},
   "outputs": [],
   "source": [
    "from sklearn.model_selection import train_test_split"
   ]
  },
  {
   "cell_type": "code",
   "execution_count": 20,
   "metadata": {},
   "outputs": [],
   "source": [
    "X_train,X_test,y_train,y_test = train_test_split(X,y,test_size=0.3)"
   ]
  },
  {
   "cell_type": "code",
   "execution_count": 21,
   "metadata": {},
   "outputs": [],
   "source": [
    "from sklearn.linear_model import LogisticRegression"
   ]
  },
  {
   "cell_type": "code",
   "execution_count": 22,
   "metadata": {},
   "outputs": [],
   "source": [
    "LogicRegressor = LogisticRegression()"
   ]
  },
  {
   "cell_type": "code",
   "execution_count": 23,
   "metadata": {},
   "outputs": [
    {
     "data": {
      "text/plain": [
       "LogisticRegression(C=1.0, class_weight=None, dual=False, fit_intercept=True,\n",
       "          intercept_scaling=1, max_iter=100, multi_class='ovr', n_jobs=1,\n",
       "          penalty='l2', random_state=None, solver='liblinear', tol=0.0001,\n",
       "          verbose=0, warm_start=False)"
      ]
     },
     "execution_count": 23,
     "metadata": {},
     "output_type": "execute_result"
    }
   ],
   "source": [
    "LogicRegressor.fit(X_train,y_train)"
   ]
  },
  {
   "cell_type": "code",
   "execution_count": 25,
   "metadata": {},
   "outputs": [],
   "source": [
    " predictor = LogicRegressor.predict_proba(X_test)"
   ]
  },
  {
   "cell_type": "code",
   "execution_count": 26,
   "metadata": {},
   "outputs": [
    {
     "data": {
      "text/plain": [
       "array([[0.83302384, 0.16697616],\n",
       "       [0.74407163, 0.25592837],\n",
       "       [0.54021306, 0.45978694],\n",
       "       [0.6266658 , 0.3733342 ],\n",
       "       [0.63288487, 0.36711513],\n",
       "       [0.6952879 , 0.3047121 ],\n",
       "       [0.6298741 , 0.3701259 ],\n",
       "       [0.57342413, 0.42657587],\n",
       "       [0.74056207, 0.25943793],\n",
       "       [0.76934087, 0.23065913],\n",
       "       [0.77559843, 0.22440157],\n",
       "       [0.8067611 , 0.1932389 ],\n",
       "       [0.76057327, 0.23942673],\n",
       "       [0.44100955, 0.55899045],\n",
       "       [0.81633705, 0.18366295],\n",
       "       [0.61369497, 0.38630503],\n",
       "       [0.62342566, 0.37657434],\n",
       "       [0.76693471, 0.23306529],\n",
       "       [0.75281689, 0.24718311],\n",
       "       [0.69807617, 0.30192383],\n",
       "       [0.81791103, 0.18208897],\n",
       "       [0.60849812, 0.39150188],\n",
       "       [0.67929747, 0.32070253],\n",
       "       [0.7167847 , 0.2832153 ],\n",
       "       [0.83600015, 0.16399985],\n",
       "       [0.8891734 , 0.1108266 ],\n",
       "       [0.62317687, 0.37682313],\n",
       "       [0.86063949, 0.13936051],\n",
       "       [0.64032034, 0.35967966],\n",
       "       [0.61255488, 0.38744512],\n",
       "       [0.52011857, 0.47988143],\n",
       "       [0.72980379, 0.27019621],\n",
       "       [0.58289657, 0.41710343],\n",
       "       [0.85102301, 0.14897699],\n",
       "       [0.34863206, 0.65136794],\n",
       "       [0.7209262 , 0.2790738 ],\n",
       "       [0.72011965, 0.27988035],\n",
       "       [0.66146536, 0.33853464],\n",
       "       [0.79721316, 0.20278684],\n",
       "       [0.35121031, 0.64878969],\n",
       "       [0.63408128, 0.36591872],\n",
       "       [0.4113976 , 0.5886024 ],\n",
       "       [0.8093184 , 0.1906816 ],\n",
       "       [0.83283252, 0.16716748],\n",
       "       [0.68734841, 0.31265159],\n",
       "       [0.66448403, 0.33551597],\n",
       "       [0.75436874, 0.24563126],\n",
       "       [0.77766415, 0.22233585],\n",
       "       [0.78784441, 0.21215559],\n",
       "       [0.76452698, 0.23547302],\n",
       "       [0.46258423, 0.53741577],\n",
       "       [0.62741515, 0.37258485],\n",
       "       [0.78325441, 0.21674559],\n",
       "       [0.60198817, 0.39801183],\n",
       "       [0.57482434, 0.42517566],\n",
       "       [0.71475856, 0.28524144],\n",
       "       [0.91383039, 0.08616961],\n",
       "       [0.6699304 , 0.3300696 ],\n",
       "       [0.47307332, 0.52692668],\n",
       "       [0.63251255, 0.36748745],\n",
       "       [0.62298874, 0.37701126],\n",
       "       [0.57039745, 0.42960255],\n",
       "       [0.60031403, 0.39968597],\n",
       "       [0.61975678, 0.38024322],\n",
       "       [0.47967005, 0.52032995],\n",
       "       [0.56542467, 0.43457533],\n",
       "       [0.8065112 , 0.1934888 ],\n",
       "       [0.41815071, 0.58184929],\n",
       "       [0.54228813, 0.45771187],\n",
       "       [0.82260317, 0.17739683],\n",
       "       [0.70131777, 0.29868223],\n",
       "       [0.82275318, 0.17724682],\n",
       "       [0.67147252, 0.32852748],\n",
       "       [0.71989461, 0.28010539],\n",
       "       [0.69017696, 0.30982304],\n",
       "       [0.81967318, 0.18032682],\n",
       "       [0.66795257, 0.33204743],\n",
       "       [0.73702745, 0.26297255],\n",
       "       [0.60089051, 0.39910949],\n",
       "       [0.84401096, 0.15598904],\n",
       "       [0.61835268, 0.38164732],\n",
       "       [0.90387169, 0.09612831],\n",
       "       [0.50435168, 0.49564832],\n",
       "       [0.72606269, 0.27393731],\n",
       "       [0.57876427, 0.42123573],\n",
       "       [0.85658154, 0.14341846],\n",
       "       [0.71739499, 0.28260501],\n",
       "       [0.79828885, 0.20171115],\n",
       "       [0.37833912, 0.62166088],\n",
       "       [0.77438085, 0.22561915],\n",
       "       [0.85823326, 0.14176674],\n",
       "       [0.53170009, 0.46829991],\n",
       "       [0.56229927, 0.43770073],\n",
       "       [0.77039574, 0.22960426],\n",
       "       [0.85855681, 0.14144319],\n",
       "       [0.70575893, 0.29424107],\n",
       "       [0.71645934, 0.28354066],\n",
       "       [0.50750649, 0.49249351],\n",
       "       [0.54810746, 0.45189254],\n",
       "       [0.53942485, 0.46057515],\n",
       "       [0.73629454, 0.26370546],\n",
       "       [0.58244412, 0.41755588],\n",
       "       [0.37479134, 0.62520866],\n",
       "       [0.61445434, 0.38554566],\n",
       "       [0.70481363, 0.29518637],\n",
       "       [0.43258906, 0.56741094],\n",
       "       [0.50340723, 0.49659277],\n",
       "       [0.85782842, 0.14217158],\n",
       "       [0.67449577, 0.32550423],\n",
       "       [0.68350386, 0.31649614],\n",
       "       [0.70170739, 0.29829261],\n",
       "       [0.76689409, 0.23310591],\n",
       "       [0.44021979, 0.55978021],\n",
       "       [0.76669447, 0.23330553],\n",
       "       [0.69414684, 0.30585316],\n",
       "       [0.53310385, 0.46689615],\n",
       "       [0.7029996 , 0.2970004 ],\n",
       "       [0.64903357, 0.35096643],\n",
       "       [0.6774549 , 0.3225451 ],\n",
       "       [0.710727  , 0.289273  ]])"
      ]
     },
     "execution_count": 26,
     "metadata": {},
     "output_type": "execute_result"
    }
   ],
   "source": [
    "predictor"
   ]
  },
  {
   "cell_type": "code",
   "execution_count": 32,
   "metadata": {},
   "outputs": [
    {
     "data": {
      "text/plain": [
       "([array([ 0.,  0.,  0.,  5.,  7., 17., 23., 31., 24., 13.]),\n",
       "  array([13., 24., 31., 23., 17.,  7.,  5.,  0.,  0.,  0.])],\n",
       " array([0.08616961, 0.16893569, 0.25170177, 0.33446784, 0.41723392,\n",
       "        0.5       , 0.58276608, 0.66553216, 0.74829823, 0.83106431,\n",
       "        0.91383039]),\n",
       " <a list of 2 Lists of Patches objects>)"
      ]
     },
     "execution_count": 32,
     "metadata": {},
     "output_type": "execute_result"
    },
    {
     "data": {
      "image/png": "[encoded data removed]",
      "text/plain": [
       "<Figure size 432x288 with 1 Axes>"
      ]
     },
     "metadata": {},
     "output_type": "display_data"
    }
   ],
   "source": [
    "plt.hist(predictor)"
   ]
  },
  {
   "cell_type": "code",
   "execution_count": null,
   "metadata": {},
   "outputs": [],
   "source": []
  }
 ],
 "metadata": {
  "kernelspec": {
   "display_name": "Python 3",
   "language": "python",
   "name": "python3"
  },
  "language_info": {
   "codemirror_mode": {
    "name": "ipython",
    "version": 3
   },
   "file_extension": ".py",
   "mimetype": "text/x-python",
   "name": "python",
   "nbconvert_exporter": "python",
   "pygments_lexer": "ipython3",
   "version": "3.6.5"
  }
 },
 "nbformat": 4,
 "nbformat_minor": 2
}
